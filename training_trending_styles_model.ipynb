{
 "cells": [
  {
   "cell_type": "markdown",
   "id": "b8033e11",
   "metadata": {},
   "source": [
    "# Fashion Trending Styles Prediction - Training"
   ]
  },
  {
   "cell_type": "code",
   "execution_count": null,
   "id": "d6d4dfed",
   "metadata": {},
   "outputs": [],
   "source": [
    "\n",
    "import pandas as pd\n",
    "import numpy as np\n",
    "from sklearn.preprocessing import LabelEncoder, StandardScaler\n",
    "from sklearn.model_selection import train_test_split\n",
    "from sklearn.ensemble import RandomForestClassifier\n",
    "from sklearn.metrics import accuracy_score, classification_report\n",
    "import joblib\n",
    "\n",
    "# Load the dataset\n",
    "data_frame_1 = pd.read_csv(\"./shein_mens_fashion.csv\")\n",
    "\n",
    "# Step 1: Define the Target Variable (Trending or Not)\n",
    "data_frame_1['is_trending'] = np.where(\n",
    "    (data_frame_1['average_rating'] > 4.0) &\n",
    "    (data_frame_1['reviews_count'] > 50) &\n",
    "    (data_frame_1['discount_percentage'] > 20),\n",
    "    1, 0\n",
    ")\n",
    "\n",
    "# Step 2: Preprocess the Data\n",
    "# Drop unnecessary columns\n",
    "columns_to_drop = ['product_id', 'sku', 'url', 'sale_price/amount_with_symbol',\n",
    "                   'retail_price/amount_with_symbol', 'description', 'title']\n",
    "data = data_frame_1.drop(columns_to_drop, axis=1)\n",
    "\n",
    "# Encode categorical columns\n",
    "label_encoder = LabelEncoder()\n",
    "categorical_columns = ['color', 'category_name']\n",
    "for column in categorical_columns:\n",
    "    if data[column].dtype == 'object':\n",
    "        data[column] = label_encoder.fit_transform(data[column].astype(str))\n",
    "\n",
    "# Scale numerical features\n",
    "scaler = StandardScaler()\n",
    "numerical_columns = ['sale_price/amount', 'retail_price/amount', 'discount_percentage',\n",
    "                     'reviews_count', 'average_rating']\n",
    "data[numerical_columns] = scaler.fit_transform(data[numerical_columns])\n",
    "\n",
    "# Step 3: Split the Data\n",
    "X = data.drop('is_trending', axis=1)\n",
    "y = data['is_trending']\n",
    "\n",
    "X_train, X_test, y_train, y_test = train_test_split(X, y, test_size=0.2, random_state=42)\n",
    "\n",
    "# Step 4: Train the Model\n",
    "model = RandomForestClassifier(random_state=42)\n",
    "model.fit(X_train, y_train)\n",
    "\n",
    "# Step 5: Evaluate the Model\n",
    "y_pred = model.predict(X_test)\n",
    "\n",
    "print(\"Accuracy:\", accuracy_score(y_test, y_pred))\n",
    "print(\"Classification Report:\n",
    "\", classification_report(y_test, y_pred))\n",
    "\n",
    "# Step 6: Save the Model and Scaler\n",
    "joblib.dump(model, 'trending_styles_model.pkl')\n",
    "joblib.dump(scaler, 'scaler.pkl')\n",
    "print(\"Model and Scaler saved.\")\n",
    "    "
   ]
  },
  {
   "cell_type": "markdown",
   "id": "4ae86aa5",
   "metadata": {},
   "source": [
    "### Saving the Model and Scaler"
   ]
  },
  {
   "cell_type": "code",
   "execution_count": null,
   "id": "96d32e03",
   "metadata": {},
   "outputs": [],
   "source": [
    "\n",
    "# Save the model and scaler as pickle files\n",
    "joblib.dump(model, 'trending_styles_model.pkl')\n",
    "joblib.dump(scaler, 'scaler.pkl')\n",
    "print(\"Model and Scaler saved.\")\n",
    "    "
   ]
  }
 ],
 "metadata": {},
 "nbformat": 4,
 "nbformat_minor": 5
}
